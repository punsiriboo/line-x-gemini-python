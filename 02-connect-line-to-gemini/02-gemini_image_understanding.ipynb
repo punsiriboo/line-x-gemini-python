{
 "cells": [
  {
   "cell_type": "markdown",
   "id": "a1e54c83",
   "metadata": {},
   "source": [
    "# Gemini Image Understanding\n",
    "\n",
    "Link: https://ai.google.dev/gemini-api/docs/vision?lang=python \n",
    "\n",
    "<img src=\"./images/gemini-image-to-text.png\" width=\"500\"/>"
   ]
  },
  {
   "cell_type": "code",
   "execution_count": 2,
   "id": "fb8cb95f",
   "metadata": {},
   "outputs": [
    {
     "name": "stdout",
     "output_type": "stream",
     "text": [
      "The image shows a ranking of the top 5 banks in Thailand with the lowest home loan interest rates.\n",
      "\n",
      "Here's a breakdown of what's shown:\n",
      "\n",
      "*   **Title:** \"5 อันดับ ดอกเบี้ยสินเชื่อบ้าน แบงก์ไหนถูกสุด\" - \"Top 5 Home Loan Interest Rates, Which Bank is the Cheapest?\"\n",
      "*   **Columns:**\n",
      "    *   **ธนาคาร (Thanakan):** Banks\n",
      "    *   **ดอกเบี้ยเฉลี่ย 3 ปีแรก (Dokbia Chalia 3 Pi Raek):** Average Interest Rate for the First 3 Years\n",
      "    *   **ระยะเวลาผ่อนสูงสุด (Rayaveela Phon Soongsoot):** Maximum Repayment Period\n",
      "*   **Banks listed (in order of ranking):**\n",
      "    1.  **รอส. (R.O.S.):** สินเชื่อวิมานเมฆ (Sin Chua Wimaanmek) - Wimaanmek Loan, 2.77%, 40 ปี (pii) - Years\n",
      "    2.  **TMB ธหารไทย (TMB Thaharn Thai):** สินเชื่อบ้าน TMB (เฉพะซื้อจากบริษัทที่กำหนด) (Sin Chua Baan TMB (Chapa Sue Jark Borisat Tee Kamnot)) - TMB Home Loan (Specifically for purchases from designated companies), 2.89%, 35 ปี\n",
      "    3.  **ออมสิน (Omsin):** สินเชื่อเคหะประชารัฐสร้างไทย (Sin Chua Keha Pracharat Sang Thai) - Keha Pracharat Sang Thai Loan, 2.90%, 40 ปี\n",
      "    4.  **กรุงศรี (Krungsri):** สินเชื่อคอนโด (Sin Chua Condo) - Condo Loan, 2.90%, 30 ปี\n",
      "    5.  **กรุงเทพ (Krungthep):** สินเชื่อบ้านบัวหลวงเพื่อกลุ่มวิชาชีพเฉพาะ (Sin Chua Baan Bua Luang Phuea Gloom Vichacheep Chapa) - Bua Luang Home Loan for Specific Professional Groups, 2.92%, 35 ปี\n",
      "\n",
      "*   **Disclaimer:** \\*เปรียบเทียบจากสินเชื่อบ้านดอกเบี้ยต่ำที่สุดของแต่ละรนาคาร เดือน ก.ย. 62 (\\*Priap thiep Jark Sin Chua Baan Dokbia Tam Tee Soong Soot Khong Tae La Tanakan Deuan Ka. Y. 62) - \\*Compared from the lowest home loan interest rate of each bank, September 2019\n",
      "*   **Website:** WWW.KAPOOK.COM\n",
      "\n",
      "In summary, the image presents a comparison of home loan interest rates offered by different banks in Thailand.\n"
     ]
    }
   ],
   "source": [
    "import os\n",
    "import PIL.Image\n",
    "from google import genai\n",
    "from dotenv import load_dotenv\n",
    "\n",
    "load_dotenv()\n",
    "\n",
    "\n",
    "client = genai.Client(api_key=os.environ[\"GEMINI_API_KEY\"])\n",
    "pil_image = PIL.Image.open(\"images/sample_image.jpg\")\n",
    "response = client.models.generate_content(\n",
    "    model=\"gemini-2.0-flash-001\",\n",
    "    contents=[\n",
    "        \"What is shown in this image in Thai?\",\n",
    "        pil_image,\n",
    "    ],\n",
    ")\n",
    "print(response.text)"
   ]
  }
 ],
 "metadata": {
  "kernelspec": {
   "display_name": ".env",
   "language": "python",
   "name": "python3"
  },
  "language_info": {
   "codemirror_mode": {
    "name": "ipython",
    "version": 3
   },
   "file_extension": ".py",
   "mimetype": "text/x-python",
   "name": "python",
   "nbconvert_exporter": "python",
   "pygments_lexer": "ipython3",
   "version": "3.12.1"
  }
 },
 "nbformat": 4,
 "nbformat_minor": 5
}
