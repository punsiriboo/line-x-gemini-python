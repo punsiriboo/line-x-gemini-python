{
 "cells": [
  {
   "cell_type": "markdown",
   "id": "d274c19c",
   "metadata": {},
   "source": [
    "# Gemini Document Understanding"
   ]
  },
  {
   "cell_type": "code",
   "execution_count": 1,
   "id": "182a7a51",
   "metadata": {},
   "outputs": [
    {
     "name": "stdout",
     "output_type": "stream",
     "text": [
      "เอกสารนี้เป็น Factsheet ของกองทุนเปิด ดาโอ โกลด์ แอนด์ ซิลเวอร์ อิควิตี้ เพื่อการเลี้ยงชีพ (DAOL-GOLDRMF) ณ วันที่ 28 กุมภาพันธ์ 2568  กองทุนนี้เป็นกองทุนรวมตราสารทุนประเภทกองทุนรวมเพื่อการเลี้ยงชีพ (RMF) ที่ลงทุนในหน่วยลงทุนของ Jupiter Asset Management Series Plc. - Jupiter Gold & Silver Fund (กองทุนหลัก)  Class I (USD)  โดยเน้นลงทุนในบริษัทที่มีธุรกิจเกี่ยวข้องกับทองคำและเงิน  กองทุนมีนโยบายลงทุนในกองทุนหลักไม่น้อยกว่า 80% ของมูลค่าทรัพย์สินสุทธิ  และอาจใช้ Derivatives เพื่อเพิ่มประสิทธิภาพและป้องกันความเสี่ยง  กองทุนมีระดับความเสี่ยงสูง  ไม่มีการจ่ายเงินปันผล และไม่มีการกำหนดอายุของกองทุน\n",
      "\n",
      "Factsheet แสดงผลการดำเนินงานย้อนหลัง 5 ปี  ค่าธรรมเนียมต่างๆ  ข้อมูลเชิงสถิติ  เช่น Maximum Drawdown, Sharpe Ratio, Beta  รวมถึงรายละเอียดการลงทุน  เช่น 5 อันดับหลักทรัพย์ที่ลงทุน  และข้อมูลของกองทุนหลัก  มี QR Code  สำหรับเข้าถึงข้อมูลเพิ่มเติม  และเว็บไซต์ของบริษัทจัดการ  คือ www.daolinvestment.co.th\n",
      "\n",
      "**หมายเหตุ:**  ผลการดำเนินงานในอดีตมิได้เป็นสิ่งยืนยันถึงผลการดำเนินงานในอนาคต  การลงทุนมีความเสี่ยง ผู้ลงทุนควรศึกษาข้อมูลในหนังสือชี้ชวนฉบับเต็มก่อนตัดสินใจลงทุน\n",
      "\n"
     ]
    }
   ],
   "source": [
    "from google import genai\n",
    "from google.genai import types\n",
    "import httpx\n",
    "import os\n",
    "from dotenv import load_dotenv\n",
    "\n",
    "load_dotenv()\n",
    "\n",
    "\n",
    "client = genai.Client(api_key=os.environ[\"GEMINI_API_KEY\"])\n",
    "\n",
    "doc_url = \"https://secdocumentstorage.blob.core.windows.net/fundfactsheet/M0370_2563.pdf\"  \n",
    "\n",
    "# Retrieve and encode the PDF byte\n",
    "doc_data = httpx.get(doc_url).content\n",
    "\n",
    "prompt = \"Summarize this document in Thai\"\n",
    "response = client.models.generate_content(\n",
    "  model=\"gemini-1.5-flash\",\n",
    "  contents=[\n",
    "      types.Part.from_bytes(\n",
    "        data=doc_data,\n",
    "        mime_type='application/pdf',\n",
    "      ),\n",
    "      prompt])\n",
    "print(response.text)"
   ]
  }
 ],
 "metadata": {
  "kernelspec": {
   "display_name": ".env",
   "language": "python",
   "name": "python3"
  },
  "language_info": {
   "codemirror_mode": {
    "name": "ipython",
    "version": 3
   },
   "file_extension": ".py",
   "mimetype": "text/x-python",
   "name": "python",
   "nbconvert_exporter": "python",
   "pygments_lexer": "ipython3",
   "version": "3.12.1"
  }
 },
 "nbformat": 4,
 "nbformat_minor": 5
}
