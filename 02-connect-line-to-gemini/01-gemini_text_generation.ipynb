{
 "cells": [
  {
   "cell_type": "markdown",
   "id": "95c0c121",
   "metadata": {},
   "source": [
    "# Gemini Text Generation\n",
    "\n",
    "Link: https://ai.google.dev/gemini-api/docs/text-generation\n"
   ]
  },
  {
   "cell_type": "code",
   "execution_count": 1,
   "id": "a2f83019",
   "metadata": {},
   "outputs": [
    {
     "name": "stdout",
     "output_type": "stream",
     "text": [
      "Okay, let's break down how AI works. It's a broad field, so I'll provide a general overview and then delve into some key concepts and techniques.\n",
      "\n",
      "**The Big Picture: Mimicking Intelligence**\n",
      "\n",
      "At its core, Artificial Intelligence aims to create machines that can perform tasks that typically require human intelligence.  This includes things like:\n",
      "\n",
      "*   **Learning:** Acquiring information and rules for using that information.\n",
      "*   **Reasoning:** Using information to draw conclusions, solve problems, and make decisions.\n",
      "*   **Problem Solving:** Identifying and finding solutions to complex issues.\n",
      "*   **Perception:** Understanding and interpreting sensory input (like images, sound, or text).\n",
      "*   **Natural Language Processing (NLP):** Understanding and generating human language.\n",
      "*   **Planning:** Creating sequences of actions to achieve goals.\n",
      "\n",
      "**How AI Achieves This: Key Concepts and Techniques**\n",
      "\n",
      "AI achieves these goals through a variety of techniques.\n"
     ]
    }
   ],
   "source": [
    "import os\n",
    "from google import genai\n",
    "from google.genai import types\n",
    "from google.genai.types import Part\n",
    "from dotenv import load_dotenv\n",
    "\n",
    "load_dotenv()\n",
    "\n",
    "\n",
    "client = genai.Client(api_key=os.environ[\"GEMINI_API_KEY\"])\n",
    "response = client.models.generate_content(\n",
    "    model=\"gemini-2.0-flash\",\n",
    "    contents=[\"How does AI work?\"],\n",
    "    config=types.GenerateContentConfig(\n",
    "            max_output_tokens=200,\n",
    "    ),\n",
    ")\n",
    "print(response.text)"
   ]
  }
 ],
 "metadata": {
  "kernelspec": {
   "display_name": ".env",
   "language": "python",
   "name": "python3"
  },
  "language_info": {
   "codemirror_mode": {
    "name": "ipython",
    "version": 3
   },
   "file_extension": ".py",
   "mimetype": "text/x-python",
   "name": "python",
   "nbconvert_exporter": "python",
   "pygments_lexer": "ipython3",
   "version": "3.12.1"
  }
 },
 "nbformat": 4,
 "nbformat_minor": 5
}
